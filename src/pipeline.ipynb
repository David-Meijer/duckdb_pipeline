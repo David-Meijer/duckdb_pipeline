{
 "cells": [
  {
   "cell_type": "markdown",
   "metadata": {},
   "source": [
    "### stage 1, setting up\n",
    "documentation available in docs/docs.ipynb"
   ]
  },
  {
   "cell_type": "code",
   "execution_count": null,
   "metadata": {},
   "outputs": [],
   "source": [
    "import duckdb"
   ]
  },
  {
   "cell_type": "code",
   "execution_count": null,
   "metadata": {},
   "outputs": [],
   "source": [
    "%run \"helpers.ipynb\""
   ]
  },
  {
   "cell_type": "code",
   "execution_count": null,
   "metadata": {},
   "outputs": [],
   "source": [
    "%run \"tests/unit_tests.ipynb\""
   ]
  },
  {
   "cell_type": "markdown",
   "metadata": {},
   "source": [
    "### stage 2, ingest raw data and stage in bronze"
   ]
  },
  {
   "cell_type": "code",
   "execution_count": null,
   "metadata": {},
   "outputs": [],
   "source": [
    "con = duckdb.connect(database = ':memory:', read_only=False)"
   ]
  },
  {
   "cell_type": "code",
   "execution_count": null,
   "metadata": {},
   "outputs": [],
   "source": [
    "#Initial load datasets into duckdb\n",
    "dataset_loader(connection=con)"
   ]
  },
  {
   "cell_type": "code",
   "execution_count": null,
   "metadata": {},
   "outputs": [],
   "source": [
    "#stage the raw files in the bronze layer (data/output/bronze)\n",
    "dataset_stager(connection=con, medallion_zone='bronze', datasets=[dataset.dataset_name for dataset in dataset_info])"
   ]
  },
  {
   "cell_type": "markdown",
   "metadata": {},
   "source": [
    "### stage 3, clean the raw files and stage in silver"
   ]
  },
  {
   "cell_type": "code",
   "execution_count": null,
   "metadata": {},
   "outputs": [],
   "source": [
    "#clean the airbnb data\n",
    "#creates in memory table 'airbnb_cleaned'\n",
    "clean_airbnb_for_silver(connection=con)\n"
   ]
  },
  {
   "cell_type": "code",
   "execution_count": null,
   "metadata": {},
   "outputs": [],
   "source": [
    "#clean the rental data\n",
    "#creates in memory table 'rentals_cleaned'\n",
    "clean_rentals_for_silver(connection=con)"
   ]
  },
  {
   "cell_type": "code",
   "execution_count": null,
   "metadata": {},
   "outputs": [],
   "source": [
    "#Save the cleaned datasets in the silver layer\n",
    "dataset_stager(connection=con, medallion_zone='silver', datasets=['airbnb_cleaned', 'rentals_cleaned'])"
   ]
  },
  {
   "cell_type": "markdown",
   "metadata": {},
   "source": [
    "### stage 4, aggregate both datasets and stage in gold"
   ]
  },
  {
   "cell_type": "code",
   "execution_count": null,
   "metadata": {},
   "outputs": [],
   "source": [
    "#combine the rental and airbnb datasets and aggregate (average rental and airbnb price per postcode)\n",
    "#creates in memory table 'aggregate_data'\n",
    "aggregate_data(connection=con)"
   ]
  },
  {
   "cell_type": "code",
   "execution_count": null,
   "metadata": {},
   "outputs": [],
   "source": [
    "#save the agregated dataset in the gold layer\n",
    "dataset_stager(connection=con, medallion_zone='gold', datasets=['aggregate_data'])"
   ]
  },
  {
   "cell_type": "code",
   "execution_count": null,
   "metadata": {},
   "outputs": [],
   "source": [
    "#Top 10 zipcodes with on average highest airbnb prices based on X observations\n",
    "con.sql(\"\"\"\n",
    "SELECT zipcode\n",
    ", average_price_airbnb\n",
    ", airbnb_count AS observation_count \n",
    "FROM aggregate_data \n",
    "ORDER BY average_price_airbnb desc \n",
    "LIMIT 10\"\"\"\n",
    ").show()"
   ]
  },
  {
   "cell_type": "code",
   "execution_count": null,
   "metadata": {},
   "outputs": [],
   "source": [
    "#Top 10 zipcodes with on average highest rental prices based on X observations\n",
    "con.sql(\"\"\"SELECT zipcode\n",
    ",average_price_rental\n",
    ",rental_count AS observation_count \n",
    "FROM aggregate_data \n",
    "ORDER BY average_price_rental desc LIMIT 10\n",
    "\"\"\").show()"
   ]
  },
  {
   "cell_type": "code",
   "execution_count": null,
   "metadata": {},
   "outputs": [],
   "source": [
    "con.close()"
   ]
  },
  {
   "cell_type": "code",
   "execution_count": null,
   "metadata": {},
   "outputs": [],
   "source": []
  }
 ],
 "metadata": {
  "kernelspec": {
   "display_name": ".venv",
   "language": "python",
   "name": "python3"
  },
  "language_info": {
   "codemirror_mode": {
    "name": "ipython",
    "version": 3
   },
   "file_extension": ".py",
   "mimetype": "text/x-python",
   "name": "python",
   "nbconvert_exporter": "python",
   "pygments_lexer": "ipython3",
   "version": "3.12.3"
  }
 },
 "nbformat": 4,
 "nbformat_minor": 2
}
