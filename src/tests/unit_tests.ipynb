{
 "cells": [
  {
   "cell_type": "code",
   "execution_count": null,
   "metadata": {},
   "outputs": [],
   "source": [
    "from polars.testing import assert_frame_equal"
   ]
  },
  {
   "cell_type": "code",
   "execution_count": null,
   "metadata": {},
   "outputs": [],
   "source": [
    "#using a seperate connection so test tables dont live in the production connection\n",
    "test_con = duckdb.connect(database = ':memory:', read_only=False)"
   ]
  },
  {
   "cell_type": "code",
   "execution_count": null,
   "metadata": {},
   "outputs": [],
   "source": [
    "def happy_flow_clean_rentals_for_silver(connection):\n",
    "\n",
    "    logger.info('Started unit test: happy_flow_clean_rentals_for_silver')\n",
    "\n",
    "    rents_test_query =\"\"\"\n",
    "    CREATE TABLE IF NOT EXISTS rents_test (\n",
    "        rent VARCHAR,\n",
    "        postalCode VARCHAR\n",
    "    );\n",
    "\n",
    "    INSERT INTO rents_test (rent, postalCode) VALUES\n",
    "    ('€ 1,-', '1234AB'),\n",
    "    ('€ 999,-', '5678CD'),\n",
    "    ('€ 800,- Utilities incl.', '2345EF'),\n",
    "    ('€ 1234,- Extra fee', '3456GH'),\n",
    "    ('€ 50,- incl.', 'ABCD12'),  \n",
    "    ('Invalid entry', '123ABCD');\n",
    "    \"\"\"\n",
    "\n",
    "    rents_test_expected_query=\"\"\"\n",
    "    CREATE TABLE rents_test_expected (\n",
    "    zipcode VARCHAR,\n",
    "    price INT\n",
    "    );\n",
    "\n",
    "    INSERT INTO rents_test_expected (zipcode, price) VALUES\n",
    "    ('1234 AB', 1),\n",
    "    ('5678 CD', 999),\n",
    "    ('2345 EF', 800),\n",
    "    ('3456 GH', 1234);\n",
    "    \"\"\"\n",
    "\n",
    "    logger.info('creating test and expected data tables')\n",
    "    connection.sql(rents_test_query)\n",
    "    connection.sql(rents_test_expected_query)\n",
    "\n",
    "    #no need to log this as the function has logging itself\n",
    "    clean_rentals_for_silver(connection, table='rents_test')\n",
    "\n",
    "    logger.info('setting up cleaned and expected data table in order for comparison')\n",
    "\n",
    "    #ordering and converting to polars dataframe for easy comparison\n",
    "    cleaned_test_set = connection.sql('FROM rentals_cleaned ORDER BY price desc').pl()\n",
    "    expected_test_set = connection.sql('FROM rents_test_expected ORDER BY price desc').pl()\n",
    "\n",
    "    logger.info('Checking cleaned test data against expected cleaned test data')\n",
    "    #DEBUG\n",
    "    #logger.info(f'Cleaned test set: \\n {cleaned_test_set}')\n",
    "    #logger.info(f'Expected test set: \\n {expected_test_set}')\n",
    "\n",
    "    assert_frame_equal(cleaned_test_set, expected_test_set)\n",
    "\n",
    "    logger.info('Successfully completed unit test: happy_flow_clean_rentals_for_silver')\n",
    "\n",
    "\n",
    "    "
   ]
  },
  {
   "cell_type": "code",
   "execution_count": null,
   "metadata": {},
   "outputs": [],
   "source": [
    "#start unit test\n",
    "happy_flow_clean_rentals_for_silver(test_con)\n"
   ]
  },
  {
   "cell_type": "code",
   "execution_count": null,
   "metadata": {},
   "outputs": [],
   "source": [
    "test_con.close()"
   ]
  }
 ],
 "metadata": {
  "kernelspec": {
   "display_name": ".venv",
   "language": "python",
   "name": "python3"
  },
  "language_info": {
   "codemirror_mode": {
    "name": "ipython",
    "version": 3
   },
   "file_extension": ".py",
   "mimetype": "text/x-python",
   "name": "python",
   "nbconvert_exporter": "python",
   "pygments_lexer": "ipython3",
   "version": "3.12.3"
  }
 },
 "nbformat": 4,
 "nbformat_minor": 2
}
