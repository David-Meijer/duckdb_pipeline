{
 "cells": [
  {
   "cell_type": "code",
   "execution_count": null,
   "metadata": {},
   "outputs": [],
   "source": [
    "import duckdb\n",
    "import polars as pl\n",
    "\n",
    "\n",
    "pl.Config.set_tbl_rows(100)"
   ]
  },
  {
   "cell_type": "code",
   "execution_count": null,
   "metadata": {},
   "outputs": [],
   "source": [
    "dataset_name = 'airbnb'"
   ]
  },
  {
   "cell_type": "code",
   "execution_count": null,
   "metadata": {},
   "outputs": [],
   "source": [
    "file_path = f'../data/{dataset_name}/{dataset_name}'"
   ]
  },
  {
   "cell_type": "code",
   "execution_count": null,
   "metadata": {},
   "outputs": [],
   "source": [
    "con = duckdb.connect(database = ':memory:', read_only=False)"
   ]
  },
  {
   "cell_type": "code",
   "execution_count": null,
   "metadata": {},
   "outputs": [],
   "source": [
    "con.execute(f\"\"\"CREATE OR REPLACE TABLE airbnb AS SELECT * FROM '{file_path}.csv'\"\"\")"
   ]
  },
  {
   "cell_type": "code",
   "execution_count": null,
   "metadata": {},
   "outputs": [],
   "source": [
    "con.sql('FROM airbnb limit 10')"
   ]
  },
  {
   "cell_type": "code",
   "execution_count": null,
   "metadata": {},
   "outputs": [],
   "source": [
    "#Zipcode data is poor (nulls and incomplete), \n",
    "#latitude and longtitude seems good. \n",
    "#room_type is good\n",
    "#accomodates is good, but is bigint and should be int\n",
    "#bedrooms has nulls, is a double and need to be int\n",
    "#review_scores_values has nulls and should be int\n",
    "#price seems good but has very low ones.\n",
    "#review_scores value seems good but has nulls and should be int\n",
    "con.sql('SUMMARIZE airbnb').show(max_width=250)"
   ]
  },
  {
   "cell_type": "code",
   "execution_count": null,
   "metadata": {},
   "outputs": [],
   "source": [
    "#Lots of weird things going on with the zipcodes\n",
    "con.sql('SELECT length(zipcode), count(*) from airbnb group by length(zipcode)').show()\n",
    "\n",
    "#Probably best to only use valid zipcodes\n",
    "con.sql(\"select count(*) from airbnb WHERE zipcode ~ '^[0-9]{4} [A-Z]{2}$'\").show()"
   ]
  },
  {
   "cell_type": "code",
   "execution_count": null,
   "metadata": {},
   "outputs": [],
   "source": [
    "con.sql('SELECT distinct room_type from airbnb')"
   ]
  },
  {
   "cell_type": "code",
   "execution_count": null,
   "metadata": {},
   "outputs": [],
   "source": [
    "con.sql('select * from airbnb where price >= 15 and price <= 20')"
   ]
  },
  {
   "cell_type": "code",
   "execution_count": null,
   "metadata": {},
   "outputs": [],
   "source": [
    "#Cant find a way to show all rows in duckdb. table gets truncated.\n",
    "#Cant transform to a polars dataframe for some reason. \n",
    "# df = con.sql('select distinct review_scores_value from airbnb').pl()\n",
    "\n",
    "\n",
    "review_scores_value = pl.read_csv(file_path+'.csv').select('review_scores_value').unique()\n",
    "display(review_scores_value)"
   ]
  },
  {
   "cell_type": "code",
   "execution_count": null,
   "metadata": {},
   "outputs": [],
   "source": [
    "#We will end up with this table\n",
    "con.sql(\"\"\"\n",
    "    CREATE OR REPLACE TABLE airbnb_valid_zipcodes AS \n",
    "    SELECT * FROM airbnb\n",
    "    WHERE zipcode ~ '^[0-9]{4} [A-Z]{2}$'\n",
    "\"\"\")"
   ]
  },
  {
   "cell_type": "code",
   "execution_count": null,
   "metadata": {},
   "outputs": [],
   "source": [
    "con.sql('select count(*) from airbnb_valid_zipcodes where zipcode is null')"
   ]
  },
  {
   "cell_type": "code",
   "execution_count": null,
   "metadata": {},
   "outputs": [],
   "source": [
    "con.sql('SUMMARIZE airbnb_valid_zipcodes').show(max_width=250)"
   ]
  },
  {
   "cell_type": "code",
   "execution_count": null,
   "metadata": {},
   "outputs": [],
   "source": []
  }
 ],
 "metadata": {
  "kernelspec": {
   "display_name": ".venv",
   "language": "python",
   "name": "python3"
  },
  "language_info": {
   "codemirror_mode": {
    "name": "ipython",
    "version": 3
   },
   "file_extension": ".py",
   "mimetype": "text/x-python",
   "name": "python",
   "nbconvert_exporter": "python",
   "pygments_lexer": "ipython3",
   "version": "3.12.3"
  }
 },
 "nbformat": 4,
 "nbformat_minor": 2
}
