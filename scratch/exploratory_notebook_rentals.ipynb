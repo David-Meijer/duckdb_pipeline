{
 "cells": [
  {
   "cell_type": "code",
   "execution_count": null,
   "metadata": {},
   "outputs": [],
   "source": [
    "import duckdb\n",
    "\n",
    "import polars as pl\n",
    "pl.Config.set_tbl_rows(30) #making sure it does not truncate rows"
   ]
  },
  {
   "cell_type": "code",
   "execution_count": null,
   "metadata": {},
   "outputs": [],
   "source": [
    "dataset_name = 'rentals'"
   ]
  },
  {
   "cell_type": "code",
   "execution_count": null,
   "metadata": {},
   "outputs": [],
   "source": [
    "file_path = f'../data/{dataset_name}/{dataset_name}.json'"
   ]
  },
  {
   "cell_type": "code",
   "execution_count": null,
   "metadata": {},
   "outputs": [],
   "source": [
    "con = duckdb.connect(database = ':memory:', read_only=False)"
   ]
  },
  {
   "cell_type": "code",
   "execution_count": null,
   "metadata": {},
   "outputs": [],
   "source": [
    "con.execute(f\"\"\"\n",
    "CREATE OR REPLACE TABLE rentals AS \n",
    "SELECT * \n",
    "FROM '{file_path}'\n",
    "\"\"\")"
   ]
  },
  {
   "cell_type": "code",
   "execution_count": null,
   "metadata": {},
   "outputs": [],
   "source": [
    "#Cannot make duckdb show everything for some reason. columns get truncated\n",
    "con.sql('FROM rentals LIMIT 10').show(max_width=250)"
   ]
  },
  {
   "cell_type": "code",
   "execution_count": null,
   "metadata": {},
   "outputs": [],
   "source": [
    "#convert to polars df\n",
    "rentals = con.sql('FROM rentals').pl()"
   ]
  },
  {
   "cell_type": "code",
   "execution_count": null,
   "metadata": {},
   "outputs": [],
   "source": [
    "#assumption made that rent is the only thing generating revenue.\n",
    "#unable to clean everything. \n",
    "\n",
    "#Postal codes need a white space in order to match them with airbnb\n",
    "display(rentals)"
   ]
  },
  {
   "cell_type": "code",
   "execution_count": null,
   "metadata": {},
   "outputs": [],
   "source": [
    "con.sql('SUMMARIZE rentals').show(max_width=250)"
   ]
  },
  {
   "cell_type": "code",
   "execution_count": null,
   "metadata": {},
   "outputs": [],
   "source": [
    "#due to time, focussing on rent string and postal code.\n",
    "#Using a regex, lets keep only the number from the rent string, replacing all non digit characters\n",
    "#To clean the time, we will place a whitespace in between the 4 letters and 2 number and then filter out the non valid ones.\n",
    "\n",
    "query = \"\"\"\n",
    "CREATE OR REPLACE TABLE airbnb_valid_zipcodes AS\n",
    "\n",
    "SELECT *\n",
    ",substring(postalCode FROM 1 FOR 4) || ' ' || substring(postalCode FROM 5) AS postalCode_clean\n",
    ",regexp_replace(rent, '[^0-9]', '', 'g') AS rent_clean\n",
    "FROM rentals\n",
    "WHERE 1=1\n",
    "AND regexp_replace(rent, '[^0-9]', '', 'g') <> ''\n",
    "AND postalCode_clean ~ '^[0-9]{4} [A-Z]{2}$'\n",
    "\"\"\"\n",
    "\n",
    "con.sql(query)\n"
   ]
  },
  {
   "cell_type": "code",
   "execution_count": null,
   "metadata": {},
   "outputs": [],
   "source": [
    "query = \"\"\"\n",
    "CREATE TABLE IF NOT EXISTS rentals_test (\n",
    "    rent VARCHAR,\n",
    "    postalCode VARCHAR\n",
    ");\n",
    "\n",
    "INSERT INTO rentals_test (rent, postalCode) VALUES\n",
    "('€ 1,-', '1234AB'),\n",
    "('€ 999,-', '5678CD'),\n",
    "('€ 800,- Utilities incl.', '2345EF'),\n",
    "('€ 1234,- Extra fee', '3456GH'),\n",
    "('€ 50,- incl.', 'ABCD12'),  \n",
    "('Invalid entry', '123ABCD');\n",
    "\"\"\"\n",
    "\n",
    "con.sql(query)"
   ]
  },
  {
   "cell_type": "code",
   "execution_count": null,
   "metadata": {},
   "outputs": [],
   "source": [
    "query = \"\"\"\n",
    "SELECT  substring(postalCode FROM 1 FOR 4) || ' ' || substring(postalCode FROM 5) AS postalCode_clean\n",
    ",CAST(regexp_replace(rent, '[^0-9]', '', 'g') as int) AS rent_clean\n",
    "FROM rentals_test\n",
    "WHERE 1=1\n",
    "AND regexp_replace(rent, '[^0-9]', '', 'g') <> ''\n",
    "AND postalCode_clean ~ '^[0-9]{4} [A-Z]{2}$'\n",
    "\"\"\"\n",
    "con.sql(query)"
   ]
  }
 ],
 "metadata": {
  "kernelspec": {
   "display_name": ".venv",
   "language": "python",
   "name": "python3"
  },
  "language_info": {
   "codemirror_mode": {
    "name": "ipython",
    "version": 3
   },
   "file_extension": ".py",
   "mimetype": "text/x-python",
   "name": "python",
   "nbconvert_exporter": "python",
   "pygments_lexer": "ipython3",
   "version": "3.12.3"
  }
 },
 "nbformat": 4,
 "nbformat_minor": 2
}
