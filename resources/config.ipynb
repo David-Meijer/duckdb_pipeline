{
 "cells": [
  {
   "cell_type": "code",
   "execution_count": null,
   "metadata": {},
   "outputs": [],
   "source": [
    "from collections import namedtuple"
   ]
  },
  {
   "cell_type": "code",
   "execution_count": 2,
   "metadata": {},
   "outputs": [],
   "source": [
    "#Only edit this cell\n",
    "dataset_folder = '../data' #relative to src folder\n",
    "dataset_info = [('airbnb', 'csv'), ('rentals', 'json')] #(name, raw_file_format)\n",
    "staging_format = 'parquet'\n",
    "medallion_zones = ('bronze', 'silver', 'gold')\n"
   ]
  },
  {
   "cell_type": "code",
   "execution_count": null,
   "metadata": {},
   "outputs": [],
   "source": [
    "#Create a named tuple for better code readability\n",
    "DatasetInfo = namedtuple('DatasetInfo', ['dataset_name', 'file_format'])\n",
    "dataset_info = [DatasetInfo(*data) for data in dataset_info]"
   ]
  }
 ],
 "metadata": {
  "kernelspec": {
   "display_name": ".venv",
   "language": "python",
   "name": "python3"
  },
  "language_info": {
   "codemirror_mode": {
    "name": "ipython",
    "version": 3
   },
   "file_extension": ".py",
   "mimetype": "text/x-python",
   "name": "python",
   "nbconvert_exporter": "python",
   "pygments_lexer": "ipython3",
   "version": "3.12.3"
  }
 },
 "nbformat": 4,
 "nbformat_minor": 2
}
